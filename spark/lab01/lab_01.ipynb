{
 "cells": [
  {
   "cell_type": "code",
   "execution_count": 1,
   "metadata": {},
   "outputs": [],
   "source": [
    "import os\n",
    "import sys\n",
    "os.environ[\"PYSPARK_PYTHON\"]='/opt/anaconda/envs/bd9/bin/python'\n",
    "os.environ[\"SPARK_HOME\"]='/usr/hdp/current/spark2-client'\n",
    "os.environ[\"PYSPARK_SUBMIT_ARGS\"]='--num-executors 3 pyspark-shell'\n",
    "\n",
    "spark_home = os.environ.get('SPARK_HOME', None)\n",
    "\n",
    "sys.path.insert(0, os.path.join(spark_home, 'python'))\n",
    "sys.path.insert(0, os.path.join(spark_home, 'python/lib/py4j-0.10.7-src.zip'))"
   ]
  },
  {
   "cell_type": "code",
   "execution_count": 2,
   "metadata": {},
   "outputs": [
    {
     "data": {
      "text/html": [
       "\n",
       "        <div>\n",
       "            <p><b>SparkContext</b></p>\n",
       "\n",
       "            <p><a href=\"http://spark-de-master-1.newprolab.com:4040\">Spark UI</a></p>\n",
       "\n",
       "            <dl>\n",
       "              <dt>Version</dt>\n",
       "                <dd><code>v2.4.7</code></dd>\n",
       "              <dt>Master</dt>\n",
       "                <dd><code>yarn</code></dd>\n",
       "              <dt>AppName</dt>\n",
       "                <dd><code>lab_01</code></dd>\n",
       "            </dl>\n",
       "        </div>\n",
       "        "
      ],
      "text/plain": [
       "<SparkContext master=yarn appName=lab_01>"
      ]
     },
     "execution_count": 2,
     "metadata": {},
     "output_type": "execute_result"
    }
   ],
   "source": [
    "from pyspark.sql import SparkSession\n",
    "\n",
    "spark = SparkSession.builder.appName(\"lab_01\").getOrCreate()\n",
    "sc = spark.sparkContext\n",
    "\n",
    "sc"
   ]
  },
  {
   "cell_type": "code",
   "execution_count": 855,
   "metadata": {},
   "outputs": [],
   "source": [
    "from pyspark.sql.types import StructType, StructField, StringType, IntegerType, LongType, DoubleType, ArrayType, DecimalType\n",
    "from pyspark.sql.functions import explode, col, udf, count, pow\n",
    "\n",
    "from urllib.parse import urlparse, unquote\n",
    "import re"
   ]
  },
  {
   "cell_type": "markdown",
   "metadata": {},
   "source": [
    "# Обработка логов"
   ]
  },
  {
   "cell_type": "code",
   "execution_count": 788,
   "metadata": {},
   "outputs": [],
   "source": [
    "schema = StructType(\n",
    "    [\n",
    "        StructField(\"UID\", LongType()),\n",
    "        StructField(\"Timestamp\", DoubleType()),\n",
    "        StructField(\"URL\", StringType())\n",
    "    ]\n",
    ")\n",
    "\n",
    "df_logs = spark.read.format('csv') \\\n",
    "    .schema(schema) \\\n",
    "    .options(header=False, inferSchema=True, sep='\\t') \\\n",
    "    .load('/mf-labs/laba01/logs')"
   ]
  },
  {
   "cell_type": "code",
   "execution_count": 455,
   "metadata": {},
   "outputs": [
    {
     "name": "stdout",
     "output_type": "stream",
     "text": [
      "+------------+----------------+--------------------+\n",
      "|         UID|       Timestamp|                 URL|\n",
      "+------------+----------------+--------------------+\n",
      "|258131083251|1.423724291637E9|http%3A%2F%2Fwww....|\n",
      "|258131083251|1.423724290637E9|                null|\n",
      "|182984926014|1.423724291666E9|http%3A%2F%2Fwww....|\n",
      "+------------+----------------+--------------------+\n",
      "only showing top 3 rows\n",
      "\n"
     ]
    }
   ],
   "source": [
    "df_logs.show(3)"
   ]
  },
  {
   "cell_type": "code",
   "execution_count": 867,
   "metadata": {},
   "outputs": [
    {
     "data": {
      "text/plain": [
       "DataFrame[UID: bigint, Timestamp: double, URL: string, domain: string]"
      ]
     },
     "execution_count": 867,
     "metadata": {},
     "output_type": "execute_result"
    }
   ],
   "source": [
    "def parse_url(url):\n",
    "    return re.sub('^www\\.', '', urlparse(unquote(url)).netloc)\n",
    "\n",
    "parse_url_udf = udf(parse_url, StringType())\n",
    "\n",
    "df_logs_parsed = df_logs \\\n",
    "    .filter(col('URL').like('http%')) \\\n",
    "    .withColumn('domain', parse_url_udf('URL')) \\\n",
    "    .na.drop() \n",
    "\n",
    "df_logs_parsed.cache()"
   ]
  },
  {
   "cell_type": "code",
   "execution_count": 790,
   "metadata": {},
   "outputs": [
    {
     "name": "stdout",
     "output_type": "stream",
     "text": [
      "+------------+----------------+--------------------+-----------------+\n",
      "|         UID|       Timestamp|                 URL|           domain|\n",
      "+------------+----------------+--------------------+-----------------+\n",
      "|258131083251|1.423724291637E9|http%3A%2F%2Fwww....|         zakon.kz|\n",
      "|182984926014|1.423724291666E9|http%3A%2F%2Fwww....|       bmwclub.ru|\n",
      "|182984926014|1.423724290666E9|http%3A%2F%2Fwww....|       bmwclub.ru|\n",
      "|289380960531|1.423724291723E9|http%3A%2F%2Fwww....|       bmwclub.ru|\n",
      "|289380960531|1.423724290723E9|http%3A%2F%2Fwww....|       bmwclub.ru|\n",
      "| 85356233460|1.423724290923E9|http%3A//www.wmma...|        wmmail.ru|\n",
      "|204109491902|1.423724291935E9|https%3A%2F%2Fvk....|           vk.com|\n",
      "|204109491902|1.423724290935E9|https%3A%2F%2Fvk....|           vk.com|\n",
      "|302580370974|1.423724291839E9|http%3A%2F%2Fwww....|  novayagazeta.ru|\n",
      "|160372190500|1.423724291901E9|http%3A%2F%2Fforu...|forum.krasmama.ru|\n",
      "|160372190500|1.423724290901E9|http%3A%2F%2Fforu...|forum.krasmama.ru|\n",
      "|310139244463|1.423724292065E9|http%3A%2F%2Fsmot...|       smotri.com|\n",
      "|310139244463|1.423724291065E9|http%3A%2F%2Fsmot...|       smotri.com|\n",
      "|282764127635|1.423724292074E9|http%3A%2F%2Fwww....|  psychologies.ru|\n",
      "|253243488436|1.423724292298E9|http%3A//www.echo...|      echo.msk.ru|\n",
      "|253243488436|1.423724291298E9|http%3A//www.echo...|      echo.msk.ru|\n",
      "| 85356233460|1.423724291422E9|http%3A//www.wmma...|        wmmail.ru|\n",
      "| 95786660366|1.423724292436E9|http%3A//echo.msk...|      echo.msk.ru|\n",
      "|198930780414|1.423724292465E9|http%3A//echo.msk...|      echo.msk.ru|\n",
      "|310152901199|1.423724292549E9|http%3A%2F%2Fsmot...|       smotri.com|\n",
      "+------------+----------------+--------------------+-----------------+\n",
      "only showing top 20 rows\n",
      "\n"
     ]
    }
   ],
   "source": [
    "df_logs_parsed.show()"
   ]
  },
  {
   "cell_type": "markdown",
   "metadata": {},
   "source": [
    "# Обработка пользователей авто"
   ]
  },
  {
   "cell_type": "code",
   "execution_count": 791,
   "metadata": {},
   "outputs": [],
   "source": [
    "schema = StructType(\n",
    "    [\n",
    "        StructField(\"autousers\", ArrayType(StringType()))\n",
    "    ]\n",
    ")\n",
    "\n",
    "df_autousers = spark.read.format('json') \\\n",
    "    .schema(schema) \\\n",
    "    .load('/mf-labs/laba01/autousers.json')"
   ]
  },
  {
   "cell_type": "code",
   "execution_count": 792,
   "metadata": {},
   "outputs": [
    {
     "data": {
      "text/plain": [
       "DataFrame[UID: bigint]"
      ]
     },
     "execution_count": 792,
     "metadata": {},
     "output_type": "execute_result"
    }
   ],
   "source": [
    "df_autousers = df_autousers \\\n",
    "    .select(explode(col('autousers')).alias('UID')) \\\n",
    "    .select(col('UID').cast('long'))\n",
    "\n",
    "df_autousers.cache()"
   ]
  },
  {
   "cell_type": "code",
   "execution_count": 793,
   "metadata": {},
   "outputs": [
    {
     "name": "stdout",
     "output_type": "stream",
     "text": [
      "+------------+\n",
      "|         UID|\n",
      "+------------+\n",
      "|100341861572|\n",
      "|100473724387|\n",
      "|100528753939|\n",
      "+------------+\n",
      "only showing top 3 rows\n",
      "\n"
     ]
    }
   ],
   "source": [
    "df_autousers.show(3)"
   ]
  },
  {
   "cell_type": "markdown",
   "metadata": {},
   "source": [
    "# Расчет вероятностей"
   ]
  },
  {
   "cell_type": "code",
   "execution_count": 794,
   "metadata": {},
   "outputs": [],
   "source": [
    "df_netloc_cnt_all = df_logs_parsed \\\n",
    "    .groupby('domain') \\\n",
    "    .count() \\\n",
    "    .withColumnRenamed('count', 'cnt_all')\n",
    "\n",
    "df_logs_cnt_auto = df_logs_parsed \\\n",
    "    .join(df_autousers, 'UID', how='inner') \\\n",
    "    .groupby('domain') \\\n",
    "    .count() \\\n",
    "    .withColumnRenamed('count', 'cnt_auto')\n",
    "\n",
    "df_logs_cnt = df_netloc_cnt_all \\\n",
    "    .join(df_logs_cnt_auto, on='domain', how='left') \\\n",
    "    .na.fill({'cnt_auto': 0})"
   ]
  },
  {
   "cell_type": "code",
   "execution_count": 870,
   "metadata": {},
   "outputs": [
    {
     "name": "stdout",
     "output_type": "stream",
     "text": [
      "+--------------------+-------+--------+\n",
      "|              domain|cnt_all|cnt_auto|\n",
      "+--------------------+-------+--------+\n",
      "|     100bestpoems.ru|     53|       0|\n",
      "|          100pdf.net|      7|       0|\n",
      "|              4i5.ru|      3|       0|\n",
      "|             4ppc.ru|      6|       0|\n",
      "|537484ab4f5af8717...|      2|       0|\n",
      "+--------------------+-------+--------+\n",
      "only showing top 5 rows\n",
      "\n"
     ]
    }
   ],
   "source": [
    "df_logs_cnt.show(5)"
   ]
  },
  {
   "cell_type": "code",
   "execution_count": 795,
   "metadata": {},
   "outputs": [],
   "source": [
    "cnt_all, cnt_auto = df_logs_cnt.groupby().agg({'cnt_all': 'sum', 'cnt_auto':'sum'}).collect()[0]"
   ]
  },
  {
   "cell_type": "code",
   "execution_count": 796,
   "metadata": {},
   "outputs": [
    {
     "data": {
      "text/plain": [
       "(6571038, 313527)"
      ]
     },
     "execution_count": 796,
     "metadata": {},
     "output_type": "execute_result"
    }
   ],
   "source": [
    "cnt_all, cnt_auto"
   ]
  },
  {
   "cell_type": "code",
   "execution_count": 861,
   "metadata": {},
   "outputs": [],
   "source": [
    "koef = pow(col('cnt_auto'), 2) / (col('cnt_all') * cnt_auto)\n",
    "\n",
    "laba01_domains = df_logs_cnt \\\n",
    "    .select(col('domain'), koef.cast(DecimalType(20,20)).alias('relevance')) \\\n",
    "    .sort(col('relevance').desc(), col('domain').asc()) \\\n",
    "    .limit(200) \\\n",
    "    .toPandas()"
   ]
  },
  {
   "cell_type": "code",
   "execution_count": 859,
   "metadata": {},
   "outputs": [
    {
     "data": {
      "text/html": [
       "<div>\n",
       "<style scoped>\n",
       "    .dataframe tbody tr th:only-of-type {\n",
       "        vertical-align: middle;\n",
       "    }\n",
       "\n",
       "    .dataframe tbody tr th {\n",
       "        vertical-align: top;\n",
       "    }\n",
       "\n",
       "    .dataframe thead th {\n",
       "        text-align: right;\n",
       "    }\n",
       "</style>\n",
       "<table border=\"1\" class=\"dataframe\">\n",
       "  <thead>\n",
       "    <tr style=\"text-align: right;\">\n",
       "      <th></th>\n",
       "      <th>domain</th>\n",
       "      <th>relevance</th>\n",
       "    </tr>\n",
       "  </thead>\n",
       "  <tbody>\n",
       "    <tr>\n",
       "      <th>0</th>\n",
       "      <td>avto-russia.ru</td>\n",
       "      <td>0.35925539076571916000</td>\n",
       "    </tr>\n",
       "    <tr>\n",
       "      <th>1</th>\n",
       "      <td>bmwclub.ru</td>\n",
       "      <td>0.30998620027598070000</td>\n",
       "    </tr>\n",
       "    <tr>\n",
       "      <th>2</th>\n",
       "      <td>cars.ru</td>\n",
       "      <td>0.20664291469246468000</td>\n",
       "    </tr>\n",
       "    <tr>\n",
       "      <th>3</th>\n",
       "      <td>passat-b5.ru</td>\n",
       "      <td>0.00257864658320028970</td>\n",
       "    </tr>\n",
       "    <tr>\n",
       "      <th>4</th>\n",
       "      <td>auto.yandex.ru</td>\n",
       "      <td>0.00257106501504136400</td>\n",
       "    </tr>\n",
       "    <tr>\n",
       "      <th>5</th>\n",
       "      <td>as8.ru</td>\n",
       "      <td>0.00148950489112580420</td>\n",
       "    </tr>\n",
       "    <tr>\n",
       "      <th>6</th>\n",
       "      <td>avtogermes.ru</td>\n",
       "      <td>0.00129491246355203820</td>\n",
       "    </tr>\n",
       "    <tr>\n",
       "      <th>7</th>\n",
       "      <td>club-fx.ru</td>\n",
       "      <td>0.00113101032041027640</td>\n",
       "    </tr>\n",
       "    <tr>\n",
       "      <th>8</th>\n",
       "      <td>spravka003.ru</td>\n",
       "      <td>0.00101792556030946990</td>\n",
       "    </tr>\n",
       "    <tr>\n",
       "      <th>9</th>\n",
       "      <td>car-total.ru</td>\n",
       "      <td>0.00089618134699827410</td>\n",
       "    </tr>\n",
       "    <tr>\n",
       "      <th>10</th>\n",
       "      <td>e36club.ru</td>\n",
       "      <td>0.00068118644392771020</td>\n",
       "    </tr>\n",
       "    <tr>\n",
       "      <th>11</th>\n",
       "      <td>shop.kalyan-hut.ru</td>\n",
       "      <td>0.00064864115638239800</td>\n",
       "    </tr>\n",
       "    <tr>\n",
       "      <th>12</th>\n",
       "      <td>yandex.ru</td>\n",
       "      <td>0.00063678249836954250</td>\n",
       "    </tr>\n",
       "    <tr>\n",
       "      <th>13</th>\n",
       "      <td>eleks.ru</td>\n",
       "      <td>0.00062391058304539490</td>\n",
       "    </tr>\n",
       "    <tr>\n",
       "      <th>14</th>\n",
       "      <td>e38-club.ru</td>\n",
       "      <td>0.00058138049039686610</td>\n",
       "    </tr>\n",
       "    <tr>\n",
       "      <th>15</th>\n",
       "      <td>stonerrock.borda.ru</td>\n",
       "      <td>0.00056135516239430730</td>\n",
       "    </tr>\n",
       "    <tr>\n",
       "      <th>16</th>\n",
       "      <td>forums.warforge.ru</td>\n",
       "      <td>0.00047322875120910004</td>\n",
       "    </tr>\n",
       "    <tr>\n",
       "      <th>17</th>\n",
       "      <td>vwts.ru</td>\n",
       "      <td>0.00045157990087772850</td>\n",
       "    </tr>\n",
       "    <tr>\n",
       "      <th>18</th>\n",
       "      <td>google.ru</td>\n",
       "      <td>0.00044303829267951065</td>\n",
       "    </tr>\n",
       "    <tr>\n",
       "      <th>19</th>\n",
       "      <td>e90club.ru</td>\n",
       "      <td>0.00043058492570017890</td>\n",
       "    </tr>\n",
       "  </tbody>\n",
       "</table>\n",
       "</div>"
      ],
      "text/plain": [
       "                 domain               relevance\n",
       "0        avto-russia.ru  0.35925539076571916000\n",
       "1            bmwclub.ru  0.30998620027598070000\n",
       "2               cars.ru  0.20664291469246468000\n",
       "3          passat-b5.ru  0.00257864658320028970\n",
       "4        auto.yandex.ru  0.00257106501504136400\n",
       "5                as8.ru  0.00148950489112580420\n",
       "6         avtogermes.ru  0.00129491246355203820\n",
       "7            club-fx.ru  0.00113101032041027640\n",
       "8         spravka003.ru  0.00101792556030946990\n",
       "9          car-total.ru  0.00089618134699827410\n",
       "10           e36club.ru  0.00068118644392771020\n",
       "11   shop.kalyan-hut.ru  0.00064864115638239800\n",
       "12            yandex.ru  0.00063678249836954250\n",
       "13             eleks.ru  0.00062391058304539490\n",
       "14          e38-club.ru  0.00058138049039686610\n",
       "15  stonerrock.borda.ru  0.00056135516239430730\n",
       "16   forums.warforge.ru  0.00047322875120910004\n",
       "17              vwts.ru  0.00045157990087772850\n",
       "18            google.ru  0.00044303829267951065\n",
       "19           e90club.ru  0.00043058492570017890"
      ]
     },
     "execution_count": 859,
     "metadata": {},
     "output_type": "execute_result"
    }
   ],
   "source": [
    "laba01_domains.head(20)"
   ]
  },
  {
   "cell_type": "code",
   "execution_count": 864,
   "metadata": {},
   "outputs": [],
   "source": [
    "laba01_domains.to_csv('laba01_domains.txt', sep='\\t', index=False, header=False)"
   ]
  },
  {
   "cell_type": "code",
   "execution_count": 25,
   "metadata": {},
   "outputs": [],
   "source": [
    "spark.stop()"
   ]
  },
  {
   "cell_type": "code",
   "execution_count": 94,
   "metadata": {},
   "outputs": [],
   "source": []
  },
  {
   "cell_type": "markdown",
   "metadata": {},
   "source": [
    "# Podval"
   ]
  },
  {
   "cell_type": "code",
   "execution_count": 89,
   "metadata": {},
   "outputs": [],
   "source": [
    "# def get_file_list(path, sc=sc):\n",
    "#     \"\"\"получение списка файлов в папке\"\"\"\n",
    "\n",
    "#     hadoop = sc._jvm.org.apache.hadoop\n",
    "#     fs = hadoop.fs.FileSystem\n",
    "#     conf = hadoop.conf.Configuration()\n",
    "\n",
    "#     path = hadoop.fs.Path(path)\n",
    "#     file_list = [str(f.getPath()).rsplit('/', 1)[1] for f in fs.get(conf).listStatus(path) if not f.isDirectory()]\n",
    "\n",
    "#     return file_list\n",
    "\n",
    "\n",
    "# import subprocess, re\n",
    "# cmd = 'hdfs dfs -ls /mf-labs/laba01/logs'\n",
    "# pattern = ' (/.+)'\n",
    "# files = os.popen(cmd).read().strip().split('\\n')\n",
    "# files = list(filter(lambda x: re.search(pattern, x), files))\n",
    "# files = list(map(lambda x: re.search(pattern, x).group(1).rsplit('/', 1)[1], files))\n",
    "# files"
   ]
  }
 ],
 "metadata": {
  "kernelspec": {
   "display_name": "Python 3",
   "language": "python",
   "name": "python3"
  },
  "language_info": {
   "codemirror_mode": {
    "name": "ipython",
    "version": 3
   },
   "file_extension": ".py",
   "mimetype": "text/x-python",
   "name": "python",
   "nbconvert_exporter": "python",
   "pygments_lexer": "ipython3",
   "version": "3.6.5"
  }
 },
 "nbformat": 4,
 "nbformat_minor": 2
}
