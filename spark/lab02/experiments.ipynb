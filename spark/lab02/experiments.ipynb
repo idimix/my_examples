{
 "cells": [
  {
   "cell_type": "code",
   "execution_count": 2,
   "metadata": {},
   "outputs": [],
   "source": [
    "##############################################################################\n",
    "# create SparkSession\n",
    "##############################################################################\n",
    "\n",
    "import os\n",
    "import sys\n",
    "os.environ[\"PYSPARK_PYTHON\"]='/opt/anaconda/envs/bd9/bin/python'\n",
    "os.environ[\"SPARK_HOME\"]='/usr/hdp/current/spark2-client'\n",
    "\n",
    "PYSPARK_SUBMIT_ARGS = \"\"\"--num-executors 3 \\\n",
    "--packages org.elasticsearch:elasticsearch-spark-20_2.11:7.7.0,\\\n",
    "com.datastax.spark:spark-cassandra-connector_2.11:2.4.3,\\\n",
    "org.postgresql:postgresql:42.2.12 pyspark-shell\"\"\"\n",
    "\n",
    "os.environ[\"PYSPARK_SUBMIT_ARGS\"] = PYSPARK_SUBMIT_ARGS\n",
    "\n",
    "spark_home = os.environ.get('SPARK_HOME', None)\n",
    "\n",
    "sys.path.insert(0, os.path.join(spark_home, 'python'))\n",
    "sys.path.insert(0, os.path.join(spark_home, 'python/lib/py4j-0.10.7-src.zip'))\n",
    "\n",
    "from pyspark.sql import SparkSession\n",
    "\n",
    "spark = SparkSession.builder.appName(\"ivashnikov\").getOrCreate()\n",
    "sc = spark.sparkContext"
   ]
  },
  {
   "cell_type": "code",
   "execution_count": 4,
   "metadata": {},
   "outputs": [
    {
     "data": {
      "text/plain": [
       "DataFrame[uid: string, web_arts_and_entertainment: bigint, web_autos_and_vehicles: bigint, web_beauty_and_fitness: bigint, web_books_and_literature: bigint, web_business_and_industry: bigint, web_career_and_education: bigint, web_computer_and_electronics: bigint, web_finance: bigint, web_food_and_drink: bigint, web_gambling: bigint, web_games: bigint, web_health: bigint, web_home_and_garden: bigint, web_internet_and_telecom: bigint, web_law_and_government: bigint, web_news_and_media: bigint, web_pets_and_animals: bigint, web_recreation_and_hobbies: bigint, web_reference: bigint, web_science: bigint, web_shopping: bigint, web_sports: bigint, web_travel: bigint]"
      ]
     },
     "execution_count": 4,
     "metadata": {},
     "output_type": "execute_result"
    }
   ],
   "source": [
    "##############################################################################\n",
    "# импорт необходимых библиотек и создание вспомогательных функций\n",
    "##############################################################################\n",
    "\n",
    "from pyspark.sql.functions import explode, col, expr, lower, concat, lit, create_map, regexp_replace\n",
    "from itertools import chain\n",
    "from auth_postgresql import login, password\n",
    "\n",
    "\n",
    "def open_elastic(table_name, option=(\"es.nodes\", \"10.0.0.5:9200\")):\n",
    "    df = spark.read.format(\"org.elasticsearch.spark.sql\").option(*option).load(table_name)\n",
    "    return df\n",
    "\n",
    "\n",
    "def open_cassandra(table_opts, host='10.0.0.5', port='9042'):\n",
    "    spark.conf.set(\"spark.cassandra.connection.host\", host)\n",
    "    spark.conf.set(\"spark.cassandra.connection.port\", port)\n",
    "    spark.conf.set(\"spark.cassandra.output.consistency.level\", \"ANY\")\n",
    "    spark.conf.set(\"spark.cassandra.input.consistency.level\", \"ONE\")\n",
    "\n",
    "    df = spark.read.format(\"org.apache.spark.sql.cassandra\").options(**table_opts).load()\n",
    "    return df\n",
    "\n",
    "\n",
    "def open_json(path):\n",
    "    df = spark.read.format('json').load(path)\n",
    "    return df\n",
    "\n",
    "\n",
    "def open_postgresql(table_name, jdbc_url):\n",
    "    df = spark.read.format(\"jdbc\") \\\n",
    "        .option(\"url\", jdbc_url) \\\n",
    "        .option(\"dbtable\", table_name) \\\n",
    "        .option(\"driver\", \"org.postgresql.Driver\") \\\n",
    "        .load()\n",
    "    return df\n",
    "\n",
    "\n",
    "##############################################################################\n",
    "# загрузка данных\n",
    "##############################################################################\n",
    "\n",
    "# Информация о клиентах\n",
    "table_opts = {\"table\": \"clients\", \"keyspace\": \"labdata\"}\n",
    "clients = open_cassandra(table_opts)\n",
    "\n",
    "# Логи посещения интернет-магазина\n",
    "visits = open_elastic(\"visits\")\n",
    "\n",
    "# Логи посещения веб-сайтов\n",
    "weblogs = open_json('/mf-labs/laba02/weblogs.json')\n",
    "\n",
    "# Информация о категориях веб-сайтов\n",
    "jdbc_url = f'jdbc:postgresql://10.0.0.5:5432/labdata?user={login}&password={password}'\n",
    "domain_cats = open_postgresql('domain_cats', jdbc_url)\n",
    "\n",
    "\n",
    "##############################################################################\n",
    "# обработка данных\n",
    "##############################################################################\n",
    "\n",
    "# обработка данных о клиентах\n",
    "age_cat_dict = {i:\n",
    "    '18-24' if 18 <= i < 25 else\n",
    "    '25-34' if 25 <= i < 35 else \n",
    "    '35-44' if 35 <= i < 45 else \n",
    "    '45-54' if 45 <= i < 55 else \n",
    "    '>=55'\n",
    "    for i in range(18, 100)\n",
    "}\n",
    "mapping_expr = create_map([lit(x) for x in chain(*age_cat_dict.items())])\n",
    "clients_processed = clients.select('uid', 'gender', mapping_expr[col('age')].alias('age_cat'))\n",
    "\n",
    "# обработка данных о посещениях интернет магазина\n",
    "cat = concat(lit('shop_'), lower(regexp_replace(col('category'), '\\s|-', '_')))\n",
    "visits_count = visits \\\n",
    "    .na.drop(subset='uid') \\\n",
    "    .withColumn('cat', cat) \\\n",
    "    .groupby('uid') \\\n",
    "    .pivot('cat') \\\n",
    "    .count() \\\n",
    "    .na.fill(0)\n",
    "visits_count.cache()\n",
    "\n",
    "# обработка данных о посещениях веб-сайтов\n",
    "domain_cats_processed = domain_cats.withColumn('category', concat(lit('web_'), 'category'))\n",
    "domain = expr(\"regexp_replace(parse_url(visits.url, 'HOST'), '^www\\.', '')\").alias('domain')\n",
    "weblogs_count = weblogs \\\n",
    "    .withColumn('visits', explode('visits')) \\\n",
    "    .select('uid', domain) \\\n",
    "    .join(domain_cats_processed, on='domain', how='inner') \\\n",
    "    .groupby('uid') \\\n",
    "    .pivot('category') \\\n",
    "    .count() \\\n",
    "    .na.fill(0)\n",
    "weblogs_count.cache()"
   ]
  },
  {
   "cell_type": "code",
   "execution_count": 9,
   "metadata": {},
   "outputs": [
    {
     "name": "stdout",
     "output_type": "stream",
     "text": [
      "-RECORD 0--------------------------------------------\n",
      " uid                          | 6f4d388e-330c-44b... \n",
      " web_arts_and_entertainment   | 1                    \n",
      " web_autos_and_vehicles       | 0                    \n",
      " web_beauty_and_fitness       | 0                    \n",
      " web_books_and_literature     | 0                    \n",
      " web_business_and_industry    | 0                    \n",
      " web_career_and_education     | 0                    \n",
      " web_computer_and_electronics | 0                    \n",
      " web_finance                  | 0                    \n",
      " web_food_and_drink           | 0                    \n",
      " web_gambling                 | 0                    \n",
      " web_games                    | 0                    \n",
      " web_health                   | 0                    \n",
      " web_home_and_garden          | 0                    \n",
      " web_internet_and_telecom     | 0                    \n",
      " web_law_and_government       | 0                    \n",
      " web_news_and_media           | 4                    \n",
      " web_pets_and_animals         | 0                    \n",
      " web_recreation_and_hobbies   | 0                    \n",
      " web_reference                | 0                    \n",
      " web_science                  | 0                    \n",
      " web_shopping                 | 6                    \n",
      " web_sports                   | 0                    \n",
      " web_travel                   | 0                    \n",
      "only showing top 1 row\n",
      "\n"
     ]
    }
   ],
   "source": [
    "weblogs_count.show(1, vertical=True)"
   ]
  },
  {
   "cell_type": "code",
   "execution_count": 16,
   "metadata": {},
   "outputs": [
    {
     "data": {
      "text/plain": [
       "DataFrame[uid: string, gender: string, age_cat: string, shop_cameras: bigint, shop_clothing: bigint, shop_computers: bigint, shop_cosmetics: bigint, shop_entertainment_equipment: bigint, shop_everyday_jewelry: bigint, shop_house_repairs_paint_tools: bigint, shop_household_appliances: bigint, shop_household_furniture: bigint, shop_kitchen_appliances: bigint, shop_kitchen_utensils: bigint, shop_luggage: bigint, shop_mobile_phones: bigint, shop_shoes: bigint, shop_sports_equipment: bigint, shop_toys: bigint, web_arts_and_entertainment: bigint, web_autos_and_vehicles: bigint, web_beauty_and_fitness: bigint, web_books_and_literature: bigint, web_business_and_industry: bigint, web_career_and_education: bigint, web_computer_and_electronics: bigint, web_finance: bigint, web_food_and_drink: bigint, web_gambling: bigint, web_games: bigint, web_health: bigint, web_home_and_garden: bigint, web_internet_and_telecom: bigint, web_law_and_government: bigint, web_news_and_media: bigint, web_pets_and_animals: bigint, web_recreation_and_hobbies: bigint, web_reference: bigint, web_science: bigint, web_shopping: bigint, web_sports: bigint, web_travel: bigint]"
      ]
     },
     "execution_count": 16,
     "metadata": {},
     "output_type": "execute_result"
    }
   ],
   "source": [
    "# создание финальной таблицы и запись в БД\n",
    "clients_stat = clients_processed \\\n",
    "    .join(visits_count, on='uid', how='left') \\\n",
    "    .join(weblogs_count, on='uid', how='left')\n",
    "clients_stat.cache()"
   ]
  },
  {
   "cell_type": "code",
   "execution_count": 18,
   "metadata": {},
   "outputs": [],
   "source": [
    "clients_stat.write \\\n",
    "    .format(\"jdbc\") \\\n",
    "    .option(\"url\", \"jdbc:postgresql://10.0.0.5:5432/dmitry_ivashnikov\") \\\n",
    "    .option(\"dbtable\", \"clients\") \\\n",
    "    .option(\"user\", login) \\\n",
    "    .option(\"password\", password) \\\n",
    "    .option(\"driver\", \"org.postgresql.Driver\") \\\n",
    "    .save()"
   ]
  },
  {
   "cell_type": "code",
   "execution_count": 4,
   "metadata": {},
   "outputs": [
    {
     "data": {
      "text/plain": [
       "22884"
      ]
     },
     "execution_count": 4,
     "metadata": {},
     "output_type": "execute_result"
    }
   ],
   "source": [
    "clients_stat.count()"
   ]
  },
  {
   "cell_type": "code",
   "execution_count": 17,
   "metadata": {},
   "outputs": [
    {
     "name": "stdout",
     "output_type": "stream",
     "text": [
      "+------+-------+-----+\n",
      "|gender|age_cat|count|\n",
      "+------+-------+-----+\n",
      "|     F|  25-34| 6791|\n",
      "|     F|  45-54| 2597|\n",
      "|     M|  45-54| 2147|\n",
      "|     M|  35-44| 5089|\n",
      "|     F|   >=55|  895|\n",
      "|     M|   >=55|  784|\n",
      "|     F|  18-24| 2886|\n",
      "|     M|  25-34| 8666|\n",
      "|     M|  18-24| 2012|\n",
      "|     F|  35-44| 4271|\n",
      "+------+-------+-----+\n",
      "\n"
     ]
    }
   ],
   "source": [
    "clients_processed.groupby('gender', 'age_cat').count().show()"
   ]
  },
  {
   "cell_type": "code",
   "execution_count": 13,
   "metadata": {},
   "outputs": [
    {
     "name": "stdout",
     "output_type": "stream",
     "text": [
      "+------+-------+-----+\n",
      "|gender|age_cat|count|\n",
      "+------+-------+-----+\n",
      "|     F|  25-34| 6791|\n",
      "|     F|  45-54| 2362|\n",
      "|     M|  45-54| 1940|\n",
      "|     M|  35-44| 5089|\n",
      "|     F|   >=55| 1130|\n",
      "|     M|   >=55|  991|\n",
      "|     M|  25-34| 8666|\n",
      "|     F|  18-24| 2886|\n",
      "|     M|  18-24| 2012|\n",
      "|     F|  35-44| 4271|\n",
      "+------+-------+-----+\n",
      "\n"
     ]
    }
   ],
   "source": [
    "clients_stat.groupby('gender', 'age_cat').count().show()"
   ]
  },
  {
   "cell_type": "code",
   "execution_count": 2,
   "metadata": {},
   "outputs": [
    {
     "name": "stdout",
     "output_type": "stream",
     "text": [
      "-RECORD 0----------------------------------------------\n",
      " uid                            | 0392f398-ea7e-4a1... \n",
      " gender                         | F                    \n",
      " age_cat                        | >=55                 \n",
      " shop_cameras                   | 1                    \n",
      " shop_clothing                  | 0                    \n",
      " shop_computers                 | 1                    \n",
      " shop_cosmetics                 | 0                    \n",
      " shop_entertainment_equipment   | 1                    \n",
      " shop_everyday_jewelry          | 0                    \n",
      " shop_house_repairs_paint_tools | 0                    \n",
      " shop_household_appliances      | 0                    \n",
      " shop_household_furniture       | 0                    \n",
      " shop_kitchen_appliances        | 0                    \n",
      " shop_kitchen_utensils          | 0                    \n",
      " shop_luggage                   | 0                    \n",
      " shop_mobile_phones             | 1                    \n",
      " shop_shoes                     | 0                    \n",
      " shop_sports_equipment          | 0                    \n",
      " shop_toys                      | 0                    \n",
      " web_arts_and_entertainment     | 1                    \n",
      " web_autos_and_vehicles         | 0                    \n",
      " web_beauty_and_fitness         | 5                    \n",
      " web_books_and_literature       | 0                    \n",
      " web_business_and_industry      | 3                    \n",
      " web_career_and_education       | 0                    \n",
      " web_computer_and_electronics   | 0                    \n",
      " web_finance                    | 0                    \n",
      " web_food_and_drink             | 0                    \n",
      " web_gambling                   | 0                    \n",
      " web_games                      | 0                    \n",
      " web_health                     | 3                    \n",
      " web_home_and_garden            | 0                    \n",
      " web_internet_and_telecom       | 0                    \n",
      " web_law_and_government         | 3                    \n",
      " web_news_and_media             | 7                    \n",
      " web_pets_and_animals           | 0                    \n",
      " web_recreation_and_hobbies     | 0                    \n",
      " web_reference                  | 1                    \n",
      " web_science                    | 0                    \n",
      " web_shopping                   | 3                    \n",
      " web_sports                     | 0                    \n",
      " web_travel                     | 0                    \n",
      "only showing top 1 row\n",
      "\n"
     ]
    }
   ],
   "source": [
    "clients_stat.show(1, vertical=True)"
   ]
  },
  {
   "cell_type": "code",
   "execution_count": null,
   "metadata": {},
   "outputs": [],
   "source": [
    "# GRANT SELECT ON TABLE clients TO labchecker2;"
   ]
  }
 ],
 "metadata": {
  "kernelspec": {
   "display_name": "Python 3",
   "language": "python",
   "name": "python3"
  },
  "language_info": {
   "codemirror_mode": {
    "name": "ipython",
    "version": 3
   },
   "file_extension": ".py",
   "mimetype": "text/x-python",
   "name": "python",
   "nbconvert_exporter": "python",
   "pygments_lexer": "ipython3",
   "version": "3.6.5"
  }
 },
 "nbformat": 4,
 "nbformat_minor": 2
}
