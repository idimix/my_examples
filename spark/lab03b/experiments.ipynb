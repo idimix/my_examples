{
 "cells": [
  {
   "cell_type": "code",
   "execution_count": 1,
   "metadata": {},
   "outputs": [],
   "source": [
    "import os\n",
    "import sys\n",
    "os.environ[\"PYSPARK_PYTHON\"]='/opt/anaconda/envs/bd9/bin/python'\n",
    "os.environ[\"SPARK_HOME\"]='/usr/hdp/current/spark2-client'\n",
    "\n",
    "PYSPARK_SUBMIT_ARGS = \"\"\"--num-executors 3 pyspark-shell\"\"\"\n",
    "\n",
    "os.environ[\"PYSPARK_SUBMIT_ARGS\"] = PYSPARK_SUBMIT_ARGS\n",
    "\n",
    "spark_home = os.environ.get('SPARK_HOME', None)\n",
    "\n",
    "sys.path.insert(0, os.path.join(spark_home, 'python'))\n",
    "sys.path.insert(0, os.path.join(spark_home, 'python/lib/py4j-0.10.7-src.zip'))\n",
    "\n",
    "from pyspark.sql import SparkSession\n",
    "\n",
    "spark = SparkSession.builder.appName(\"ivashnikov\").getOrCreate()\n",
    "sc = spark.sparkContext"
   ]
  },
  {
   "cell_type": "code",
   "execution_count": 2,
   "metadata": {},
   "outputs": [],
   "source": [
    "from pyspark.sql.functions import countDistinct, col, explode, from_json, to_json, lit, struct, when, from_unixtime, to_date, date_format, window, sum, mean, count, unix_timestamp\n",
    "from pyspark.sql.types import StructType, StructField, StringType, LongType, DoubleType"
   ]
  },
  {
   "cell_type": "code",
   "execution_count": 3,
   "metadata": {},
   "outputs": [],
   "source": [
    "# params\n",
    "topic_in = 'lab03_input_data'\n",
    "topic_out = 'dmitry_ivashnikov_lab03b_out'\n",
    "\n",
    "kafka_params_in = {\n",
    "    \"kafka.bootstrap.servers\": \"spark-master-1:6667\",\n",
    "    \"startingOffsets\": \"earliest\",\n",
    "    \"subscribe\": topic_in,\n",
    "}\n",
    "kafka_params_out = {\n",
    "    \"kafka.bootstrap.servers\": \"10.0.0.5:6667\", \n",
    "    \"checkpointLocation\": \"checkpoint\",\n",
    "}\n",
    "\n",
    "# open_data\n",
    "input_data = spark \\\n",
    "    .readStream \\\n",
    "    .format(\"kafka\") \\\n",
    "    .options(**kafka_params_in) \\\n",
    "    .load()\n",
    "\n",
    "# processing\n",
    "clmns_in = [\n",
    "    'category', \n",
    "    'event_type', \n",
    "    'item_id', \n",
    "    'item_price', \n",
    "    'timestamp', \n",
    "    'uid',\n",
    "]\n",
    "clmns_out = [\n",
    "    'start_ts', \n",
    "    'end_ts', \n",
    "    'revenue', \n",
    "    'visitors', \n",
    "    'purchases', \n",
    "    'aov',\n",
    "]\n",
    "\n",
    "jsonSchema = StructType([StructField(clmn, StringType()) for clmn in clmns_in])\n",
    "value_in = from_json(col('value').cast(\"string\"), jsonSchema).alias('value')\n",
    "clmns = list(map(lambda x: 'value.%s' % x, clmns_in))\n",
    "timestamp = from_unixtime(col('timestamp') / 1000)\n",
    "\n",
    "revenue = sum(when(col('event_type') == 'buy', col('item_price')).otherwise(0)).cast(LongType()).alias('revenue')\n",
    "visitors = count(col('uid')).alias('visitors')\n",
    "purchases = sum(when(col('event_type') == 'buy', 1).otherwise(0)).cast(LongType()).alias('purchases')\n",
    "aov = (revenue / purchases).alias('aov')\n",
    "\n",
    "start_ts = unix_timestamp(col('window.start'))\n",
    "end_ts = unix_timestamp(col('window.end'))\n",
    "\n",
    "value_out = to_json(struct(clmns_out)).alias('value')\n",
    "topic = lit(topic_out).alias('topic')\n",
    "\n",
    "agg_data = input_data \\\n",
    "    .select(value_in) \\\n",
    "    .select(*clmns) \\\n",
    "    .groupby(window(timestamp, '1 hour')) \\\n",
    "    .agg(revenue, visitors, purchases, aov) \\\n",
    "    .withColumn('start_ts', start_ts) \\\n",
    "    .withColumn('end_ts', end_ts) \\\n",
    "    .select(value_out, topic)\n",
    "    \n",
    "# write\n",
    "# sq = agg_data \\\n",
    "#     .writeStream \\\n",
    "#     .format(\"kafka\") \\\n",
    "#     .outputMode(\"Update\") \\\n",
    "#     .trigger(processingTime=\"5 seconds\") \\\n",
    "#     .options(**kafka_params_out).start()\n",
    "# sq.awaitTermination()"
   ]
  },
  {
   "cell_type": "code",
   "execution_count": 25,
   "metadata": {},
   "outputs": [
    {
     "name": "stdout",
     "output_type": "stream",
     "text": [
      "+-----+\n",
      "|value|\n",
      "+-----+\n",
      "+-----+\n",
      "\n"
     ]
    }
   ],
   "source": [
    "kafka_params = {\n",
    "    \"kafka.bootstrap.servers\": \"spark-master-1:6667\",\n",
    "    \"startingOffsets\": \"earliest\",\n",
    "    \"subscribe\": 'dmitry_ivashnikov',\n",
    "}\n",
    "\n",
    "\n",
    "\n",
    "\n",
    "spark \\\n",
    "    .read \\\n",
    "    .format(\"kafka\") \\\n",
    "    .options(**kafka_params) \\\n",
    "    .load() \\\n",
    "    .select(col('value').cast('string')) \\\n",
    "    .show(20, 70)    "
   ]
  },
  {
   "cell_type": "code",
   "execution_count": 21,
   "metadata": {},
   "outputs": [
    {
     "name": "stdout",
     "output_type": "stream",
     "text": [
      "+--------------------+\n",
      "|               value|\n",
      "+--------------------+\n",
      "|{\"event_type\": \"v...|\n",
      "|{\"event_type\": \"b...|\n",
      "|{\"event_type\": \"v...|\n",
      "|{\"event_type\": \"b...|\n",
      "|{\"event_type\": \"v...|\n",
      "|{\"event_type\": \"v...|\n",
      "|{\"event_type\": \"v...|\n",
      "|{\"event_type\": \"v...|\n",
      "|{\"event_type\": \"b...|\n",
      "|{\"event_type\": \"v...|\n",
      "|{\"event_type\": \"b...|\n",
      "|{\"event_type\": \"v...|\n",
      "|{\"event_type\": \"v...|\n",
      "|{\"event_type\": \"v...|\n",
      "|{\"event_type\": \"v...|\n",
      "|{\"event_type\": \"v...|\n",
      "|{\"event_type\": \"v...|\n",
      "|{\"event_type\": \"b...|\n",
      "|{\"event_type\": \"b...|\n",
      "|{\"event_type\": \"v...|\n",
      "+--------------------+\n",
      "only showing top 20 rows\n",
      "\n"
     ]
    }
   ],
   "source": [
    "df.show()"
   ]
  },
  {
   "cell_type": "code",
   "execution_count": 407,
   "metadata": {},
   "outputs": [],
   "source": [
    "sss = sum(when(col('event_type') == 'buy', col('item_price')).otherwise(0))"
   ]
  },
  {
   "cell_type": "code",
   "execution_count": 424,
   "metadata": {},
   "outputs": [
    {
     "name": "stdout",
     "output_type": "stream",
     "text": [
      "+--------------------+----------+--------------------+----------+-------------+--------------------+\n",
      "|            category|event_type|             item_id|item_price|    timestamp|                 uid|\n",
      "+--------------------+----------+--------------------+----------+-------------+--------------------+\n",
      "|Entertainment-equ...|       buy|Entertainment-equ...|      2529|1577865600000|40b29579-e845-45c...|\n",
      "|    Everyday-jewelry|       buy|  Everyday-jewelry-0|      4320|1577865660000|                null|\n",
      "|             Cameras|      view|           Cameras-1|      1856|1577865720000|ab0e7dd1-5899-488...|\n",
      "|             Luggage|      view|           Luggage-7|      4975|1577865720000|                null|\n",
      "|       Mobile-phones|      view|    Mobile-phones-10|      3981|1577865780000|d1206327-0e9f-410...|\n",
      "|    Everyday-jewelry|       buy|  Everyday-jewelry-0|      4786|1577865780000|                null|\n",
      "|             Cameras|      view|          Cameras-15|       312|1577865780000|6d5212d9-73eb-434...|\n",
      "|             Luggage|       buy|          Luggage-19|      2194|1577865840000|                null|\n",
      "|    Sports-equipment|       buy| Sports-equipment-15|      1541|1577865840000|                null|\n",
      "| Household-furniture|      view|Household-furnitu...|      3744|1577865900000|                null|\n",
      "|House-repairs-pai...|      view|House-repairs-pai...|      3331|1577865900000|63c58d8b-1529-4d0...|\n",
      "|             Cameras|      view|           Cameras-4|      2840|1577865960000|4c514886-327a-4d5...|\n",
      "|           Computers|      view|         Computers-8|       489|1577865960000|bb811c53-77c7-43a...|\n",
      "|               Shoes|      view|             Shoes-4|      3823|1577865960000|9e25ab5d-a775-4af...|\n",
      "|           Computers|      view|        Computers-13|      3883|1577866020000|1f39bee6-917b-4ae...|\n",
      "|       Mobile-phones|      view|    Mobile-phones-13|      4193|1577866080000|cfd73ff8-2c0e-47f...|\n",
      "|Household-appliances|      view|Household-applian...|      4540|1577866080000|0a54eae2-43ac-4f8...|\n",
      "|            Clothing|       buy|         Clothing-18|      4564|1577866080000|b0133bf3-c9eb-461...|\n",
      "|Entertainment-equ...|      view|Entertainment-equ...|       666|1577866140000|b9270841-65ed-432...|\n",
      "|    Sports-equipment|      view| Sports-equipment-13|      1218|1577866140000|                null|\n",
      "+--------------------+----------+--------------------+----------+-------------+--------------------+\n",
      "only showing top 20 rows\n",
      "\n"
     ]
    }
   ],
   "source": [
    "agg_data = tmp \\\n",
    "    .select(value_in) \\\n",
    "    .select(*clmns) \\\n",
    "#     .groupby(window(timestamp, '1 hour')) \\\n",
    "#     .agg(revenue, visitors, purchases, aov) \\\n",
    "#     .withColumn('start_ts', start_ts) \\\n",
    "#     .withColumn('end_ts', end_ts) \\\n",
    "#     .select(value_out, topic)\n",
    "\n",
    "agg_data.show()"
   ]
  },
  {
   "cell_type": "code",
   "execution_count": 426,
   "metadata": {},
   "outputs": [
    {
     "name": "stdout",
     "output_type": "stream",
     "text": [
      "+--------------------------+\n",
      "|count((event_type = view))|\n",
      "+--------------------------+\n",
      "|                      1000|\n",
      "+--------------------------+\n",
      "\n"
     ]
    }
   ],
   "source": [
    "agg_data.groupby().agg(count(col('event_type') == 'view')).show()"
   ]
  },
  {
   "cell_type": "code",
   "execution_count": 401,
   "metadata": {},
   "outputs": [
    {
     "data": {
      "text/plain": [
       "462"
      ]
     },
     "execution_count": 401,
     "metadata": {},
     "output_type": "execute_result"
    }
   ],
   "source": [
    "agg_data.filter('uid != \"null\"').count()"
   ]
  },
  {
   "cell_type": "code",
   "execution_count": 402,
   "metadata": {},
   "outputs": [
    {
     "data": {
      "text/plain": [
       "1000"
      ]
     },
     "execution_count": 402,
     "metadata": {},
     "output_type": "execute_result"
    }
   ],
   "source": [
    "agg_data.count()"
   ]
  },
  {
   "cell_type": "code",
   "execution_count": 403,
   "metadata": {},
   "outputs": [
    {
     "name": "stdout",
     "output_type": "stream",
     "text": [
      "+----------+\n",
      "|count(uid)|\n",
      "+----------+\n",
      "|       462|\n",
      "+----------+\n",
      "\n"
     ]
    }
   ],
   "source": [
    "agg_data.groupby().agg(count(col('uid'))).show()"
   ]
  },
  {
   "cell_type": "code",
   "execution_count": 362,
   "metadata": {},
   "outputs": [
    {
     "ename": "AttributeError",
     "evalue": "'int' object has no attribute 'select'",
     "output_type": "error",
     "traceback": [
      "\u001b[0;31m---------------------------------------------------------------------------\u001b[0m",
      "\u001b[0;31mAttributeError\u001b[0m                            Traceback (most recent call last)",
      "\u001b[0;32m<ipython-input-362-e3a0432ab377>\u001b[0m in \u001b[0;36m<module>\u001b[0;34m()\u001b[0m\n\u001b[0;32m----> 1\u001b[0;31m \u001b[0mtmp\u001b[0m     \u001b[0;34m.\u001b[0m\u001b[0mselect\u001b[0m\u001b[0;34m(\u001b[0m\u001b[0mcol\u001b[0m\u001b[0;34m(\u001b[0m\u001b[0;34m'value'\u001b[0m\u001b[0;34m)\u001b[0m\u001b[0;34m.\u001b[0m\u001b[0mcast\u001b[0m\u001b[0;34m(\u001b[0m\u001b[0;34m'string'\u001b[0m\u001b[0;34m)\u001b[0m\u001b[0;34m)\u001b[0m     \u001b[0;34m.\u001b[0m\u001b[0mshow\u001b[0m\u001b[0;34m(\u001b[0m\u001b[0;36m20\u001b[0m\u001b[0;34m,\u001b[0m \u001b[0;36m70\u001b[0m\u001b[0;34m)\u001b[0m\u001b[0;34m\u001b[0m\u001b[0m\n\u001b[0m",
      "\u001b[0;31mAttributeError\u001b[0m: 'int' object has no attribute 'select'"
     ]
    }
   ],
   "source": [
    "tmp \\\n",
    "    .select(col('value').cast('string')) \\\n",
    "    .show(20, 70) "
   ]
  },
  {
   "cell_type": "code",
   "execution_count": 292,
   "metadata": {},
   "outputs": [
    {
     "name": "stdout",
     "output_type": "stream",
     "text": [
      "+---+-----+-----+---------+------+---------+-------------+\n",
      "|key|value|topic|partition|offset|timestamp|timestampType|\n",
      "+---+-----+-----+---------+------+---------+-------------+\n",
      "+---+-----+-----+---------+------+---------+-------------+\n",
      "\n"
     ]
    }
   ],
   "source": [
    "tmp.show()"
   ]
  },
  {
   "cell_type": "code",
   "execution_count": 428,
   "metadata": {},
   "outputs": [
    {
     "data": {
      "text/plain": [
       "0"
      ]
     },
     "execution_count": 428,
     "metadata": {},
     "output_type": "execute_result"
    }
   ],
   "source": [
    "kafka_params = {\n",
    "     \"kafka.bootstrap.servers\": \"10.0.0.5:6667\",\n",
    "    \"startingOffsets\": \"earliest\",\n",
    "    \"subscribe\": 'dmitry_ivashnikov_lab03b_out',\n",
    "}\n",
    "\n",
    "spark \\\n",
    "    .read \\\n",
    "    .format(\"kafka\") \\\n",
    "    .options(**kafka_params) \\\n",
    "    .load().count()"
   ]
  },
  {
   "cell_type": "code",
   "execution_count": 423,
   "metadata": {},
   "outputs": [
    {
     "name": "stdout",
     "output_type": "stream",
     "text": [
      "+-------------------------------------------------------------------------------------------------------------------+\n",
      "|                                                                                                              value|\n",
      "+-------------------------------------------------------------------------------------------------------------------+\n",
      "|  {\"start_ts\":1577901600,\"end_ts\":1577905200,\"revenue\":51954,\"visitors\":21,\"purchases\":49,\"aov\":1060.2857142857142}|\n",
      "|  {\"start_ts\":1577883600,\"end_ts\":1577887200,\"revenue\":94244,\"visitors\":45,\"purchases\":103,\"aov\":914.9902912621359}|\n",
      "|  {\"start_ts\":1577869200,\"end_ts\":1577872800,\"revenue\":96379,\"visitors\":32,\"purchases\":87,\"aov\":1107.8045977011495}|\n",
      "| {\"start_ts\":1577880000,\"end_ts\":1577883600,\"revenue\":139741,\"visitors\":42,\"purchases\":98,\"aov\":1425.9285714285713}|\n",
      "|   {\"start_ts\":1577872800,\"end_ts\":1577876400,\"revenue\":86863,\"visitors\":52,\"purchases\":99,\"aov\":877.4040404040404}|\n",
      "|  {\"start_ts\":1577876400,\"end_ts\":1577880000,\"revenue\":77495,\"visitors\":59,\"purchases\":106,\"aov\":731.0849056603773}|\n",
      "|         {\"start_ts\":1577887200,\"end_ts\":1577890800,\"revenue\":107025,\"visitors\":41,\"purchases\":96,\"aov\":1114.84375}|\n",
      "|   {\"start_ts\":1577894400,\"end_ts\":1577898000,\"revenue\":92673,\"visitors\":38,\"purchases\":82,\"aov\":1130.158536585366}|\n",
      "|{\"start_ts\":1577890800,\"end_ts\":1577894400,\"revenue\":114057,\"visitors\":51,\"purchases\":111,\"aov\":1027.5405405405406}|\n",
      "|   {\"start_ts\":1577865600,\"end_ts\":1577869200,\"revenue\":80271,\"visitors\":46,\"purchases\":87,\"aov\":922.6551724137931}|\n",
      "| {\"start_ts\":1577898000,\"end_ts\":1577901600,\"revenue\":105541,\"visitors\":35,\"purchases\":82,\"aov\":1287.0853658536585}|\n",
      "+-------------------------------------------------------------------------------------------------------------------+\n",
      "\n"
     ]
    }
   ],
   "source": [
    "kafka_params = {\n",
    "     \"kafka.bootstrap.servers\": \"10.0.0.5:6667\",\n",
    "    \"startingOffsets\": \"earliest\",\n",
    "    \"subscribe\": 'dmitry_ivashnikov_lab03b_out',\n",
    "}\n",
    "\n",
    "spark \\\n",
    "    .read \\\n",
    "    .format(\"kafka\") \\\n",
    "    .options(**kafka_params) \\\n",
    "    .load() \\\n",
    "    .select(col('value').cast('string')) \\\n",
    "    .show(50, 120)   "
   ]
  },
  {
   "cell_type": "code",
   "execution_count": null,
   "metadata": {},
   "outputs": [],
   "source": [
    "{\"start_ts\":1577865600,\"end_ts\":1577869200,\"revenue\":80271,\"visitors\":46,\"purchases\":28,\"aov\":2866.8214285714284}\n",
    "{\"start_ts\":1577869200,\"end_ts\":1577872800,\"revenue\":96379,\"visitors\":32,\"purchases\":40,\"aov\":2409.475}"
   ]
  },
  {
   "cell_type": "code",
   "execution_count": 246,
   "metadata": {},
   "outputs": [],
   "source": [
    "def kill_all():\n",
    "    streams = spark.builder.getOrCreate().streams.active\n",
    "    if streams:\n",
    "        for s in streams:\n",
    "            desc = s.lastProgress[\"sources\"][0][\"description\"]\n",
    "            s.stop()\n",
    "            print(\"Stopped {s}\".format(s=desc))"
   ]
  },
  {
   "cell_type": "code",
   "execution_count": 415,
   "metadata": {},
   "outputs": [
    {
     "name": "stdout",
     "output_type": "stream",
     "text": [
      "Stopped KafkaV2[Subscribe[dmitry_ivashnikov]]\n"
     ]
    }
   ],
   "source": [
    "kill_all()"
   ]
  },
  {
   "cell_type": "code",
   "execution_count": 429,
   "metadata": {},
   "outputs": [],
   "source": [
    "spark.stop()"
   ]
  },
  {
   "cell_type": "code",
   "execution_count": null,
   "metadata": {},
   "outputs": [],
   "source": []
  }
 ],
 "metadata": {
  "kernelspec": {
   "display_name": "Python 3",
   "language": "python",
   "name": "python3"
  }
 },
 "nbformat": 4,
 "nbformat_minor": 2
}
