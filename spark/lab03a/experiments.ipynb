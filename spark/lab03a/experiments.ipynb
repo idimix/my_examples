{
 "cells": [
  {
   "cell_type": "code",
   "execution_count": 5,
   "metadata": {},
   "outputs": [],
   "source": [
    "import os\n",
    "import sys\n",
    "os.environ[\"PYSPARK_PYTHON\"]='/opt/anaconda/envs/bd9/bin/python'\n",
    "os.environ[\"SPARK_HOME\"]='/usr/hdp/current/spark2-client'\n",
    "\n",
    "PYSPARK_SUBMIT_ARGS = \"\"\"--num-executors 3 pyspark-shell\"\"\"\n",
    "\n",
    "os.environ[\"PYSPARK_SUBMIT_ARGS\"] = PYSPARK_SUBMIT_ARGS\n",
    "\n",
    "spark_home = os.environ.get('SPARK_HOME', None)\n",
    "\n",
    "sys.path.insert(0, os.path.join(spark_home, 'python'))\n",
    "sys.path.insert(0, os.path.join(spark_home, 'python/lib/py4j-0.10.7-src.zip'))\n",
    "\n",
    "from pyspark.sql import SparkSession\n",
    "\n",
    "spark = SparkSession.builder.appName(\"ivashnikov\").getOrCreate()\n",
    "sc = spark.sparkContext\n",
    "\n",
    "spark.conf.set(\"spark.sql.session.timeZone\", \"GMT\")"
   ]
  },
  {
   "cell_type": "code",
   "execution_count": null,
   "metadata": {},
   "outputs": [],
   "source": [
    "spark.sparkContext.getConf().getAll()"
   ]
  },
  {
   "cell_type": "code",
   "execution_count": 2,
   "metadata": {},
   "outputs": [],
   "source": [
    "from pyspark.sql.functions import countDistinct, col, explode, from_json, from_unixtime, to_date, date_format, max as spark_max, from_utc_timestamp\n",
    "from pyspark.sql.types import StructType, StructField, StringType, LongType, DoubleType"
   ]
  },
  {
   "cell_type": "code",
   "execution_count": 19,
   "metadata": {},
   "outputs": [],
   "source": [
    "topic_name = 'dmitry_ivashnikov'\n",
    "offset = 'earliest'\n",
    "\n",
    "kafka_params = {\n",
    "    \"kafka.bootstrap.servers\": \"spark-master-1:6667\",\n",
    "    \"startingOffsets\": \"\"\" { \"%s\": { \"0\": %s } } \"\"\" % (topic_name, offset) if offset.isdigit() else offset,\n",
    "    \"endingOffsets\": \"latest\",\n",
    "    \"subscribe\": topic_name,\n",
    "}\n",
    "\n",
    "\n",
    "json_clmns = [\n",
    "    'category', \n",
    "    'event_type', \n",
    "    'item_id', \n",
    "    'item_price', \n",
    "    'timestamp', \n",
    "    'uid',\n",
    "]\n",
    "\n",
    "jsonSchema = StructType(\n",
    "    [StructField(clmn, StringType()) for clmn in json_clmns]\n",
    ")\n",
    "\n",
    "value = from_json(col('value').cast(\"string\"), jsonSchema)\n",
    "clmns = list(map(lambda x: 'value.%s' % x, json_clmns))\n",
    "date = date_format(\n",
    "    to_date(from_unixtime(col('timestamp') / 1000)), \n",
    "    'yyyyMMdd'\n",
    ")\n",
    "\n",
    "\n",
    "input_data = spark \\\n",
    "    .read \\\n",
    "    .format(\"kafka\") \\\n",
    "    .options(**kafka_params) \\\n",
    "    .load() \\\n",
    "    .select(value.alias('value')) \\\n",
    "    .select(*clmns) \\\n",
    "    .withColumn('date', date)"
   ]
  },
  {
   "cell_type": "code",
   "execution_count": 20,
   "metadata": {},
   "outputs": [
    {
     "name": "stdout",
     "output_type": "stream",
     "text": [
      "+--------------------+----------+--------------------+----------+-------------+--------------------+--------+\n",
      "|            category|event_type|             item_id|item_price|    timestamp|                 uid|    date|\n",
      "+--------------------+----------+--------------------+----------+-------------+--------------------+--------+\n",
      "|           Computers|      view|        Computers-14|      3551|1588233600000|83952311b9d949463...|20200430|\n",
      "|  Kitchen-appliances|       buy|Kitchen-appliances-2|      4174|1588233600000|5f7be40206c4f5b17...|20200430|\n",
      "|           Computers|      view|         Computers-7|      4052|1588233600000|f488c78dd79e9be52...|20200430|\n",
      "|  Kitchen-appliances|       buy|Kitchen-appliance...|      3630|1588233780000|abf2ffd0532a4ed8b...|20200430|\n",
      "|             Luggage|      view|           Luggage-9|      4490|1588233780000|84ecbcc7fb9c56273...|20200430|\n",
      "|           Computers|      view|         Computers-0|      3050|1588233780000|29168ccb6ed46c01d...|20200430|\n",
      "|           Computers|      view|        Computers-13|      3207|1588233900000|4dd616be7d5c77970...|20200430|\n",
      "|           Computers|      view|        Computers-13|      1367|1588233900000|b40d61cd8e94deddd...|20200430|\n",
      "|           Computers|       buy|        Computers-17|      1780|1588234080000|1a8f8df16c4408ba5...|20200430|\n",
      "|           Computers|      view|        Computers-18|       202|1588234080000|df05c278119eab5a8...|20200430|\n",
      "|           Computers|       buy|        Computers-10|      1873|1588234140000|685b19d11b1c4e761...|20200430|\n",
      "|    Sports-equipment|      view|  Sports-equipment-8|      4909|1588234140000|d3ec8b404e7d7396f...|20200430|\n",
      "| Household-furniture|      view|Household-furnitu...|      3574|1588234200000|44dfa912faad76fb1...|20200430|\n",
      "|Entertainment-equ...|      view|Entertainment-equ...|      2141|1588234200000|dac9f7bfb404f10b4...|20200430|\n",
      "|       Mobile-phones|      view|    Mobile-phones-19|      2727|1588234200000|1004d29199d340fed...|20200430|\n",
      "|           Computers|      view|         Computers-2|      3306|1588234380000|c707bd62bc10935c6...|20200430|\n",
      "|           Computers|      view|         Computers-5|      3776|1588234380000|e778b9d08f8e01b7f...|20200430|\n",
      "|    Kitchen-utensils|       buy|  Kitchen-utensils-3|      2373|1588234440000|2d20961a804b98897...|20200430|\n",
      "|            Clothing|       buy|         Clothing-14|      3895|1588234560000|e5bfad1b592ca6e84...|20200430|\n",
      "|Entertainment-equ...|      view|Entertainment-equ...|      1007|1588234620000|e0039c9b9f599a3d1...|20200430|\n",
      "+--------------------+----------+--------------------+----------+-------------+--------------------+--------+\n",
      "only showing top 20 rows\n",
      "\n"
     ]
    }
   ],
   "source": [
    "input_data.show()"
   ]
  },
  {
   "cell_type": "code",
   "execution_count": 7,
   "metadata": {},
   "outputs": [
    {
     "name": "stdout",
     "output_type": "stream",
     "text": [
      "+--------------------+----------+--------------------+----------+-------------+--------------------+--------+\n",
      "|            category|event_type|             item_id|item_price|    timestamp|                 uid|    date|\n",
      "+--------------------+----------+--------------------+----------+-------------+--------------------+--------+\n",
      "|             Luggage|      view|          Luggage-15|       701|1588194000000|                null|20200430|\n",
      "|    Everyday-jewelry|       buy|  Everyday-jewelry-8|      2024|1588194060000|                null|20200430|\n",
      "|             Luggage|       buy|           Luggage-5|      2443|1588194060000|                null|20200430|\n",
      "|House-repairs-pai...|      view|House-repairs-pai...|      1440|1588194120000|                null|20200430|\n",
      "|           Cosmetics|       buy|        Cosmetics-10|      4817|1588194120000|                null|20200430|\n",
      "|House-repairs-pai...|       buy|House-repairs-pai...|      2937|1588194180000|                null|20200430|\n",
      "|House-repairs-pai...|       buy|House-repairs-pai...|      2947|1588194180000|                null|20200430|\n",
      "|             Luggage|      view|          Luggage-10|      3015|1588194300000|                null|20200430|\n",
      "|House-repairs-pai...|       buy|House-repairs-pai...|      4072|1588194300000|b3ab0238-134c-403...|20200430|\n",
      "|            Clothing|      view|          Clothing-6|      4035|1588194300000|                null|20200430|\n",
      "|House-repairs-pai...|      view|House-repairs-pai...|      3579|1588194300000|                null|20200430|\n",
      "|Entertainment-equ...|       buy|Entertainment-equ...|      3540|1588194360000|27cfcd6a-8e32-4df...|20200430|\n",
      "|            Clothing|       buy|          Clothing-1|      2292|1588194360000|                null|20200430|\n",
      "|             Cameras|      view|          Cameras-11|      3387|1588194420000|                null|20200430|\n",
      "|             Luggage|      view|          Luggage-12|      1621|1588194540000|                null|20200430|\n",
      "|           Cosmetics|      view|         Cosmetics-4|       923|1588194540000|                null|20200430|\n",
      "|House-repairs-pai...|      view|House-repairs-pai...|       443|1588194540000|03385bb5-342d-422...|20200430|\n",
      "|    Everyday-jewelry|       buy|  Everyday-jewelry-7|      4362|1588194540000|                null|20200430|\n",
      "|           Computers|      view|         Computers-3|      2990|1588194540000|2b8a897c-e606-405...|20200430|\n",
      "|    Sports-equipment|      view| Sports-equipment-12|      3878|1588194540000|                null|20200430|\n",
      "+--------------------+----------+--------------------+----------+-------------+--------------------+--------+\n",
      "only showing top 20 rows\n",
      "\n"
     ]
    }
   ],
   "source": [
    "input_data.where('date == 20200430').show()"
   ]
  },
  {
   "cell_type": "code",
   "execution_count": 236,
   "metadata": {},
   "outputs": [
    {
     "data": {
      "text/plain": [
       "DataFrame[key: binary, value: binary, topic: string, partition: int, offset: bigint, timestamp: timestamp, timestampType: int]"
      ]
     },
     "execution_count": 236,
     "metadata": {},
     "output_type": "execute_result"
    }
   ],
   "source": [
    "input_data = spark \\\n",
    "    .read \\\n",
    "    .format(\"kafka\") \\\n",
    "    .options(**kafka_params) \\\n",
    "    .load()\n",
    "input_data.cache()"
   ]
  },
  {
   "cell_type": "code",
   "execution_count": 237,
   "metadata": {},
   "outputs": [
    {
     "name": "stdout",
     "output_type": "stream",
     "text": [
      "+----+--------------------+----------------+---------+------+--------------------+-------------+\n",
      "| key|               value|           topic|partition|offset|           timestamp|timestampType|\n",
      "+----+--------------------+----------------+---------+------+--------------------+-------------+\n",
      "|null|[7B 22 65 76 65 6...|lab03_input_data|        0|182540|2020-10-26 12:24:...|            0|\n",
      "|null|[7B 22 65 76 65 6...|lab03_input_data|        0|182541|2020-10-26 12:24:...|            0|\n",
      "|null|[7B 22 65 76 65 6...|lab03_input_data|        0|182542|2020-10-26 12:24:...|            0|\n",
      "|null|[7B 22 65 76 65 6...|lab03_input_data|        0|182543|2020-10-26 12:24:...|            0|\n",
      "|null|[7B 22 65 76 65 6...|lab03_input_data|        0|182544|2020-10-26 12:24:...|            0|\n",
      "|null|[7B 22 65 76 65 6...|lab03_input_data|        0|182545|2020-10-26 12:24:...|            0|\n",
      "|null|[7B 22 65 76 65 6...|lab03_input_data|        0|182546|2020-10-26 12:24:...|            0|\n",
      "|null|[7B 22 65 76 65 6...|lab03_input_data|        0|182547|2020-10-26 12:24:...|            0|\n",
      "|null|[7B 22 65 76 65 6...|lab03_input_data|        0|182548|2020-10-26 12:24:...|            0|\n",
      "|null|[7B 22 65 76 65 6...|lab03_input_data|        0|182549|2020-10-26 12:24:...|            0|\n",
      "|null|[7B 22 65 76 65 6...|lab03_input_data|        0|182550|2020-10-26 12:24:...|            0|\n",
      "|null|[7B 22 65 76 65 6...|lab03_input_data|        0|182551|2020-10-26 12:24:...|            0|\n",
      "|null|[7B 22 65 76 65 6...|lab03_input_data|        0|182552|2020-10-26 12:24:...|            0|\n",
      "|null|[7B 22 65 76 65 6...|lab03_input_data|        0|182553|2020-10-26 12:24:...|            0|\n",
      "|null|[7B 22 65 76 65 6...|lab03_input_data|        0|182554|2020-10-26 12:24:...|            0|\n",
      "|null|[7B 22 65 76 65 6...|lab03_input_data|        0|182555|2020-10-26 12:24:...|            0|\n",
      "|null|[7B 22 65 76 65 6...|lab03_input_data|        0|182556|2020-10-26 12:24:...|            0|\n",
      "|null|[7B 22 65 76 65 6...|lab03_input_data|        0|182557|2020-10-26 12:24:...|            0|\n",
      "|null|[7B 22 65 76 65 6...|lab03_input_data|        0|182558|2020-10-26 12:24:...|            0|\n",
      "|null|[7B 22 65 76 65 6...|lab03_input_data|        0|182559|2020-10-26 12:24:...|            0|\n",
      "+----+--------------------+----------------+---------+------+--------------------+-------------+\n",
      "only showing top 20 rows\n",
      "\n"
     ]
    }
   ],
   "source": [
    "input_data.show()"
   ]
  },
  {
   "cell_type": "code",
   "execution_count": 255,
   "metadata": {},
   "outputs": [
    {
     "data": {
      "text/plain": [
       "[Row(min(offset)=182540)]"
      ]
     },
     "execution_count": 255,
     "metadata": {},
     "output_type": "execute_result"
    }
   ],
   "source": [
    "input_data.withColumn('offset', col('offset').cast(LongType())).groupby().agg({'offset': 'min'}).collect()"
   ]
  },
  {
   "cell_type": "code",
   "execution_count": 204,
   "metadata": {},
   "outputs": [
    {
     "data": {
      "text/plain": [
       "DataFrame[category: string, event_type: string, item_id: string, item_price: string, timestamp: string, uid: string, date: string]"
      ]
     },
     "execution_count": 204,
     "metadata": {},
     "output_type": "execute_result"
    }
   ],
   "source": [
    "input_data.cache()"
   ]
  },
  {
   "cell_type": "code",
   "execution_count": 205,
   "metadata": {},
   "outputs": [
    {
     "name": "stdout",
     "output_type": "stream",
     "text": [
      "+----------+----------+----------+----------+----------+----------+--------+\n",
      "|  category|event_type|   item_id|item_price| timestamp|       uid|    date|\n",
      "+----------+----------+----------+----------+----------+----------+--------+\n",
      "|Enterta...|       buy|Enterta...|      2529|1577865...|40b2957...|20200101|\n",
      "|Everyda...|       buy|Everyda...|      4320|1577865...|      null|20200101|\n",
      "|   Cameras|      view| Cameras-1|      1856|1577865...|ab0e7dd...|20200101|\n",
      "+----------+----------+----------+----------+----------+----------+--------+\n",
      "only showing top 3 rows\n",
      "\n"
     ]
    }
   ],
   "source": [
    "input_data.show(3,10)"
   ]
  },
  {
   "cell_type": "code",
   "execution_count": 184,
   "metadata": {},
   "outputs": [
    {
     "data": {
      "text/plain": [
       "182540"
      ]
     },
     "execution_count": 184,
     "metadata": {},
     "output_type": "execute_result"
    }
   ],
   "source": [
    "input_data.count()"
   ]
  },
  {
   "cell_type": "code",
   "execution_count": 186,
   "metadata": {},
   "outputs": [
    {
     "data": {
      "text/plain": [
       "117498"
      ]
     },
     "execution_count": 186,
     "metadata": {},
     "output_type": "execute_result"
    }
   ],
   "source": [
    "input_data.where('event_type == \"view\"').count()"
   ]
  },
  {
   "cell_type": "code",
   "execution_count": 187,
   "metadata": {},
   "outputs": [
    {
     "data": {
      "text/plain": [
       "65042"
      ]
     },
     "execution_count": 187,
     "metadata": {},
     "output_type": "execute_result"
    }
   ],
   "source": [
    "input_data.where('event_type == \"buy\"').count()"
   ]
  },
  {
   "cell_type": "code",
   "execution_count": 180,
   "metadata": {},
   "outputs": [
    {
     "data": {
      "text/plain": [
       "947"
      ]
     },
     "execution_count": 180,
     "metadata": {},
     "output_type": "execute_result"
    }
   ],
   "source": [
    "spark.read.json(\"visits/view/date=20200429\").count()"
   ]
  },
  {
   "cell_type": "code",
   "execution_count": null,
   "metadata": {},
   "outputs": [],
   "source": [
    "input_data \\\n",
    "    .filter('event_type == \"view\"') \\\n",
    "    .write \\\n",
    "    .format(\"json\") \\\n",
    "    .partitionBy('date') \\\n",
    "    .mode(\"overwrite\") \\\n",
    "    .save(\"visits/view/\")\n",
    "\n",
    "input_data \\\n",
    "    .filter('event_type == \"buy\"') \\\n",
    "    .write \\\n",
    "    .format(\"json\") \\\n",
    "    .partitionBy('date') \\\n",
    "    .mode(\"overwrite\") \\\n",
    "    .save(\"visits/buy/\")"
   ]
  },
  {
   "cell_type": "code",
   "execution_count": 168,
   "metadata": {},
   "outputs": [],
   "source": [
    "offset = 'earliest'"
   ]
  },
  {
   "cell_type": "code",
   "execution_count": 206,
   "metadata": {},
   "outputs": [],
   "source": [
    "path = 'visits'"
   ]
  },
  {
   "cell_type": "code",
   "execution_count": 212,
   "metadata": {},
   "outputs": [],
   "source": [
    "for event_type in ['view', 'buy']:\n",
    "    input_data \\\n",
    "        .filter('event_type == \"%s\"' % event_type) \\\n",
    "        .write \\\n",
    "        .format(\"json\") \\\n",
    "        .partitionBy('date') \\\n",
    "        .mode(\"overwrite\") \\\n",
    "        .save(os.path.join(path, event_type))"
   ]
  },
  {
   "cell_type": "code",
   "execution_count": 83,
   "metadata": {},
   "outputs": [
    {
     "name": "stdout",
     "output_type": "stream",
     "text": [
      "+----------+----------+----------+----------+----------+----------+--------+\n",
      "|  category|event_type|   item_id|item_price| timestamp|       uid|    date|\n",
      "+----------+----------+----------+----------+----------+----------+--------+\n",
      "|Enterta...|       buy|Enterta...|      2529|1577865...|40b2957...|20200101|\n",
      "|Everyda...|       buy|Everyda...|      4320|1577865...|      null|20200101|\n",
      "|   Cameras|      view| Cameras-1|      1856|1577865...|ab0e7dd...|20200101|\n",
      "+----------+----------+----------+----------+----------+----------+--------+\n",
      "only showing top 3 rows\n",
      "\n"
     ]
    }
   ],
   "source": [
    "input_data.show(3, 10)"
   ]
  },
  {
   "cell_type": "code",
   "execution_count": 80,
   "metadata": {},
   "outputs": [
    {
     "name": "stdout",
     "output_type": "stream",
     "text": [
      "+-------------------------------------------+\n",
      "|date_format(to_date(`timestamp`), yyyyMMdd)|\n",
      "+-------------------------------------------+\n",
      "|                                   20200101|\n",
      "|                                   20200101|\n",
      "|                                   20200101|\n",
      "|                                   20200101|\n",
      "|                                   20200101|\n",
      "|                                   20200101|\n",
      "|                                   20200101|\n",
      "|                                   20200101|\n",
      "|                                   20200101|\n",
      "|                                   20200101|\n",
      "|                                   20200101|\n",
      "|                                   20200101|\n",
      "|                                   20200101|\n",
      "|                                   20200101|\n",
      "|                                   20200101|\n",
      "|                                   20200101|\n",
      "|                                   20200101|\n",
      "|                                   20200101|\n",
      "|                                   20200101|\n",
      "|                                   20200101|\n",
      "+-------------------------------------------+\n",
      "only showing top 20 rows\n",
      "\n"
     ]
    }
   ],
   "source": [
    "input_data \\\n",
    "    .select() \\\n",
    "    .show()"
   ]
  },
  {
   "cell_type": "code",
   "execution_count": 139,
   "metadata": {},
   "outputs": [],
   "source": [
    "data_view = input_data \\\n",
    "    .filter('event_type == \"view\"') \\\n",
    "    .repartition(int(cnt.loc['view']), 'date')\n",
    "\n",
    "data_buy = input_data \\\n",
    "    .filter('event_type == \"buy\"') \\\n",
    "    .repartition(int(cnt.loc['buy']), 'date')"
   ]
  },
  {
   "cell_type": "code",
   "execution_count": 142,
   "metadata": {},
   "outputs": [
    {
     "name": "stdout",
     "output_type": "stream",
     "text": [
      "+--------+----------+----------+----------+----------+----+--------+\n",
      "|category|event_type|   item_id|item_price| timestamp| uid|    date|\n",
      "+--------+----------+----------+----------+----------+----+--------+\n",
      "|Clothing|      view|Clothin...|      1803|1578344...|null|20200107|\n",
      "+--------+----------+----------+----------+----------+----+--------+\n",
      "only showing top 1 row\n",
      "\n"
     ]
    }
   ],
   "source": [
    "data_view.show(1, 10)"
   ]
  },
  {
   "cell_type": "code",
   "execution_count": 87,
   "metadata": {},
   "outputs": [
    {
     "name": "stdout",
     "output_type": "stream",
     "text": [
      "+----------+----------+----------+----------+----------+----------+--------+\n",
      "|  category|event_type|   item_id|item_price| timestamp|       uid|    date|\n",
      "+----------+----------+----------+----------+----------+----------+--------+\n",
      "|   Cameras|      view| Cameras-1|      1856|1577865...|ab0e7dd...|20200101|\n",
      "|   Luggage|      view| Luggage-7|      4975|1577865...|      null|20200101|\n",
      "|Mobile-...|      view|Mobile-...|      3981|1577865...|d120632...|20200101|\n",
      "+----------+----------+----------+----------+----------+----------+--------+\n",
      "only showing top 3 rows\n",
      "\n"
     ]
    }
   ],
   "source": [
    "data_view.show(3, 10)"
   ]
  }
 ],
 "metadata": {
  "kernelspec": {
   "display_name": "Python 3",
   "language": "python",
   "name": "python3"
  },
  "language_info": {
   "codemirror_mode": {
    "name": "ipython",
    "version": 3
   },
   "file_extension": ".py",
   "mimetype": "text/x-python",
   "name": "python",
   "nbconvert_exporter": "python",
   "pygments_lexer": "ipython3",
   "version": "3.6.5"
  }
 },
 "nbformat": 4,
 "nbformat_minor": 2
}
